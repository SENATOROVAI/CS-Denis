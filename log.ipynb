{
 "cells": [
  {
   "cell_type": "code",
   "execution_count": null,
   "metadata": {},
   "outputs": [],
   "source": [
    "\"\"\"Логи изученного материала.\"\"\"\n",
    "\n"
   ]
  },
  {
   "cell_type": "markdown",
   "metadata": {},
   "source": [
    "25.07\n",
    "\n",
    "1. Изучили pip3\n",
    "2. Установили GitHub Desktop\n",
    "3. Установили Python in terminal\n",
    "4. Узнал принцип работы BOOTCAMP\n",
    "5. Настроили рабочую среду \n",
    "6. Узнал про книги для ускоренного изучения Python\n",
    "7. Установил VSCode."
   ]
  },
  {
   "cell_type": "markdown",
   "metadata": {
    "vscode": {
     "languageId": "plaintext"
    }
   },
   "source": [
    "26.07\n",
    "1. Научился отправлять commit\n",
    "2. Настроили VSCode + перевели всё на английский\n",
    "3. Научился отправлять домашние задание\n",
    "4. Открыли доступ в репозиторий в GitHube\n",
    "5. Соединили GitHube с VSCode, синхронизировали."
   ]
  },
  {
   "cell_type": "markdown",
   "metadata": {},
   "source": [
    "29.07\n",
    "1. Узнал про правила присвоения имен.\n",
    "2. Прочитал стр. 85-94 книги Chisty Kod, глава \"Выбор понятных имен\" \n",
    "3. Сделал конспект по пункту 2.\n",
    "4. Начал проходить обучение https://t.me/c/1937296927/3602/5714\n",
    "5. Просмтрел ролик по работе памяти https://www.youtube.com/watch?v=Wh22_O8jXVQ&list=PLIJLLSrXDPojDGKW0WZ7sU0eO3nyn0oDc\n"
   ]
  }
 ],
 "metadata": {
  "language_info": {
   "name": "python"
  }
 },
 "nbformat": 4,
 "nbformat_minor": 2
}
