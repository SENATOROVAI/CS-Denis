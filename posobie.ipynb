{
 "cells": [
  {
   "cell_type": "code",
   "execution_count": null,
   "metadata": {},
   "outputs": [],
   "source": [
    "\"\"\"Курс прораммирование на Python.\"\"\""
   ]
  },
  {
   "cell_type": "markdown",
   "metadata": {},
   "source": [
    "None = неопределенное значение переменной\n",
    "bool = Булевой тип: True/False\n",
    "int = Целлочисленный тип \n",
    "float = Вещественный тип\n",
    "complex = Комплексный тип (для комплексных чисел)\n",
    "str = Строковый тип\n",
    " \n",
    " #Бинарные списки\n",
    " bytes = Список байт\n",
    " bytearray = Байтовые массивы\n",
    " memoryview = Специальные объекты для доступа к внутренним данным объекта через protocol buffer\n",
    "\n",
    " #Множества\n",
    " set = Множество\n",
    " frozenset = Неизменяемое множество\n",
    "\n",
    " #Словари\n",
    " dict = словарь"
   ]
  },
  {
   "cell_type": "markdown",
   "metadata": {},
   "source": [
    "input() - для ввода данных с клавиатуры\n",
    "print() - для ввода данных в консоль"
   ]
  },
  {
   "cell_type": "code",
   "execution_count": 1,
   "metadata": {},
   "outputs": [
    {
     "data": {
      "text/plain": [
       "''"
      ]
     },
     "execution_count": 1,
     "metadata": {},
     "output_type": "execute_result"
    }
   ],
   "source": [
    "input(5)"
   ]
  }
 ],
 "metadata": {
  "kernelspec": {
   "display_name": "Python 3",
   "language": "python",
   "name": "python3"
  },
  "language_info": {
   "codemirror_mode": {
    "name": "ipython",
    "version": 3
   },
   "file_extension": ".py",
   "mimetype": "text/x-python",
   "name": "python",
   "nbconvert_exporter": "python",
   "pygments_lexer": "ipython3",
   "version": "3.12.4"
  }
 },
 "nbformat": 4,
 "nbformat_minor": 2
}
